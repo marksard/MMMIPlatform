{
 "cells": [
  {
   "cell_type": "code",
   "execution_count": null,
   "metadata": {},
   "outputs": [],
   "source": [
    "from decimal import Decimal, ROUND_HALF_UP, ROUND_HALF_EVEN\n",
    "import pprint\n",
    "\n",
    "# root Cでオクターブごとの周波数テーブル\n",
    "print('// ------------------------- C-2-C7(Hz) -------------------------')\n",
    "print('const static float octaves[11] PROGMEM = {')\n",
    "# c0からc9までのcの周波数\n",
    "c0 = 16.351598/4\n",
    "st = c0\n",
    "for i in range(10):\n",
    "    st = st * 2\n",
    "    st = float(Decimal(st).quantize(Decimal('0.000001'), ROUND_HALF_UP))\n",
    "    print(f'{st},')\n",
    "print('};')\n"
   ]
  },
  {
   "cell_type": "code",
   "execution_count": null,
   "metadata": {},
   "outputs": [],
   "source": [
    "# octavesとかけ合わせたら目的のキーが出る周波数を出すための係数\n",
    "# pow(2, (キー/12))\n",
    "print('// ------------------------- semitones -------------------------')\n",
    "print('const static float semitones[12] PROGMEM = {')\n",
    "for i in range(12):\n",
    "    semi = 2 ** (i / 12)\n",
    "    semi = float(Decimal(semi).quantize(Decimal('0.000001'), ROUND_HALF_UP))\n",
    "    print(f'{semi},')\n",
    "print('};')\n"
   ]
  },
  {
   "cell_type": "code",
   "execution_count": null,
   "metadata": {},
   "outputs": [],
   "source": [
    "\n",
    "def mapping(value, start1, stop1, start2, stop2):\n",
    "    return start2 + (stop2 - start2) * ((value - start1) / (stop1 - start1))\n",
    "\n",
    "# V/Octは1V上がるごとに1Octave\n",
    "# 基準周波数 * pow(2, 電圧)\n",
    "# で出したい周波数が求まる\n",
    "# 例：16.351598Hz * pow(2, 3V) = 130.812784Hzで2オクターブ上\n",
    "# Promicroは4.8V付近=1023ぽい？ので4.8Vまでを1024分割して2乗しておく\n",
    "# PG上は掛け算のみのシンプルなカタチになる\n",
    "print('// ------------------------- volt_table_pow2 -------------------------')\n",
    "print('const static float volt_table_pow2[1024] PROGMEM = {')\n",
    "for i in range(1024):\n",
    "    volt = mapping(i, 0, 1024, 0, 4.8)\n",
    "    volt = 2 ** volt\n",
    "    volt = float(Decimal(volt).quantize(Decimal('0.000001'), ROUND_HALF_UP))\n",
    "    print(f'{volt},')\n",
    "print('};')\n"
   ]
  },
  {
   "cell_type": "code",
   "execution_count": null,
   "metadata": {},
   "outputs": [],
   "source": [
    "# powなし版\n",
    "print('// ------------------------- volt_table -------------------------')\n",
    "print('const static float volt_table[1024] PROGMEM = {')\n",
    "for i in range(1024):\n",
    "    volt = mapping(i, 0, 1024, 0, 4.8)\n",
    "    volt = float(Decimal(volt).quantize(Decimal('0.000001'), ROUND_HALF_UP))\n",
    "    print(f'{volt},')\n",
    "print('};')"
   ]
  }
 ],
 "metadata": {
  "kernelspec": {
   "display_name": "Python 3",
   "language": "python",
   "name": "python3"
  },
  "language_info": {
   "codemirror_mode": {
    "name": "ipython",
    "version": 3
   },
   "file_extension": ".py",
   "mimetype": "text/x-python",
   "name": "python",
   "nbconvert_exporter": "python",
   "pygments_lexer": "ipython3",
   "version": "3.10.11"
  },
  "orig_nbformat": 4,
  "vscode": {
   "interpreter": {
    "hash": "ab88d8ca818b9d0b9f3cb0dd756b61be3ceb26667e5b0317b7278e37125b035a"
   }
  }
 },
 "nbformat": 4,
 "nbformat_minor": 2
}
